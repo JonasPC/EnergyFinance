{
 "cells": [
  {
   "cell_type": "code",
   "execution_count": 12,
   "metadata": {},
   "outputs": [],
   "source": [
    "from src.longlat import LongLat\n",
    "from src.population import Population\n",
    "from src.gdp import GDP\n",
    "from src.weather import Weather\n",
    "from src.moments import Moments\n",
    "from src.prices import Prices\n",
    "from src.sales import Sales\n",
    "from src.utils import Utils\n",
    "from src.dataretrieve import DataRetrieve\n",
    "%matplotlib inline"
   ]
  },
  {
   "cell_type": "code",
   "execution_count": 14,
   "metadata": {},
   "outputs": [
    {
     "data": {
      "text/plain": [
       "'/Users/Jeppe/Dropbox/ENFI/EnergyFinance'"
      ]
     },
     "execution_count": 14,
     "metadata": {},
     "output_type": "execute_result"
    }
   ],
   "source": [
    "import pandas as pd\n",
    "import os\n",
    "os.getcwd()"
   ]
  },
  {
   "cell_type": "code",
   "execution_count": 3,
   "metadata": {},
   "outputs": [
    {
     "name": "stdout",
     "output_type": "stream",
     "text": [
      "{'Alaska', 'District of Columbia', 'Hawaii'}\n",
      "set()\n"
     ]
    }
   ],
   "source": [
    "s1, s2 = Utils.test_states()\n",
    "print(s1 - s2)\n",
    "print(s2 - s1)"
   ]
  },
  {
   "cell_type": "code",
   "execution_count": 20,
   "metadata": {
    "collapsed": true
   },
   "outputs": [],
   "source": [
    "df_long = DataRetrieve.load_longlat()\n",
    "df_pop = DataRetrieve.load_population()\n",
    "df_gdp = DataRetrieve.load_gdp()\n",
    "df_weather = DataRetrieve.load_weather()\n",
    "df_sales = DataRetrieve.load_sales()\n",
    "df_prices = DataRetrieve.load_prices()"
   ]
  },
  {
   "cell_type": "code",
   "execution_count": 26,
   "metadata": {},
   "outputs": [],
   "source": [
    "pop_cols = set(df_pop.columns)\n",
    "long_cols = set(df_long.columns)\n",
    "gdp_cols = set(df_gdp.columns)\n",
    "weather_cols = set(df_weather.columns)\n",
    "prices_cols = set(df_prices.columns)\n",
    "sales_cols = set(df_sales.columns)\n",
    "\n",
    "#test\n",
    "test = list(df_sales.columns)\n",
    "test.append('lars')\n",
    "test_cols = set(test)"
   ]
  },
  {
   "cell_type": "code",
   "execution_count": 37,
   "metadata": {},
   "outputs": [
    {
     "name": "stdout",
     "output_type": "stream",
     "text": [
      "True\n",
      "True\n",
      "True\n",
      "True\n",
      "True\n"
     ]
    }
   ],
   "source": [
    "# should be true\n",
    "print(pop_cols == long_cols)\n",
    "print(gdp_cols == long_cols)\n",
    "print(weather_cols == long_cols) \n",
    "print(prices_cols == long_cols)\n",
    "print(sales_cols == long_cols) "
   ]
  },
  {
   "cell_type": "code",
   "execution_count": 29,
   "metadata": {},
   "outputs": [
    {
     "name": "stdout",
     "output_type": "stream",
     "text": [
      "False\n"
     ]
    }
   ],
   "source": [
    "#Should be false\n",
    "print(test_cols == long_cols) "
   ]
  }
 ],
 "metadata": {
  "kernelspec": {
   "display_name": "Python 3",
   "language": "python",
   "name": "python3"
  },
  "language_info": {
   "codemirror_mode": {
    "name": "ipython",
    "version": 3
   },
   "file_extension": ".py",
   "mimetype": "text/x-python",
   "name": "python",
   "nbconvert_exporter": "python",
   "pygments_lexer": "ipython3",
   "version": "3.6.3"
  }
 },
 "nbformat": 4,
 "nbformat_minor": 2
}
