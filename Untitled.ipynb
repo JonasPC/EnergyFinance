{
 "cells": [
  {
   "cell_type": "code",
   "execution_count": 18,
   "metadata": {},
   "outputs": [],
   "source": [
    "from src.longlat import LongLat\n",
    "from src.population import Population\n",
    "from src.gdp import GDP\n",
    "from src.weather import Weather\n",
    "from src.moments import Moments\n",
    "import pandas as pd\n",
    "%matplotlib inline"
   ]
  },
  {
   "cell_type": "code",
   "execution_count": 2,
   "metadata": {},
   "outputs": [],
   "source": [
    "df_pop = Population.clean_population()"
   ]
  },
  {
   "cell_type": "code",
   "execution_count": 3,
   "metadata": {
    "collapsed": true
   },
   "outputs": [],
   "source": [
    "df_long = LongLat.clean_longlat()"
   ]
  },
  {
   "cell_type": "code",
   "execution_count": 4,
   "metadata": {},
   "outputs": [],
   "source": [
    "df_gdp = GDP.clean_gdp()"
   ]
  },
  {
   "cell_type": "code",
   "execution_count": 15,
   "metadata": {},
   "outputs": [],
   "source": [
    "df_weather = Weather.clean_weather()"
   ]
  },
  {
   "cell_type": "code",
   "execution_count": 16,
   "metadata": {
    "collapsed": true
   },
   "outputs": [],
   "source": [
    "pop_cols = set(df_pop.columns)\n",
    "long_cols = set(df_long.columns)\n",
    "gdp_cols = set(df_gdp.columns)\n",
    "weather_cols = set(df_weather.columns)\n",
    "prices_cols = set(df_prices.columns)\n",
    "sales_cols = set(df_sales.columns)"
   ]
  },
  {
   "cell_type": "code",
   "execution_count": 17,
   "metadata": {},
   "outputs": [
    {
     "name": "stdout",
     "output_type": "stream",
     "text": [
      "True\n",
      "True\n",
      "True\n"
     ]
    }
   ],
   "source": [
    "print(pop_cols == long_cols)\n",
    "print(gdp_cols == long_cols)\n",
    "print(weather_cols == long_cols) \n",
    "print(prices_cols == long_cols)\n",
    "print(sales_cols == long_cols) "
   ]
  },
  {
   "cell_type": "code",
   "execution_count": 10,
   "metadata": {
    "collapsed": true
   },
   "outputs": [],
   "source": [
    "from scipy.stats import moment\n",
    "import numpy as np"
   ]
  },
  {
   "cell_type": "code",
   "execution_count": 11,
   "metadata": {},
   "outputs": [
    {
     "data": {
      "text/html": [
       "<div>\n",
       "<style scoped>\n",
       "    .dataframe tbody tr th:only-of-type {\n",
       "        vertical-align: middle;\n",
       "    }\n",
       "\n",
       "    .dataframe tbody tr th {\n",
       "        vertical-align: top;\n",
       "    }\n",
       "\n",
       "    .dataframe thead th {\n",
       "        text-align: right;\n",
       "    }\n",
       "</style>\n",
       "<table border=\"1\" class=\"dataframe\">\n",
       "  <thead>\n",
       "    <tr style=\"text-align: right;\">\n",
       "      <th></th>\n",
       "      <th>mom1</th>\n",
       "      <th>mom2</th>\n",
       "      <th>mom3</th>\n",
       "      <th>mom4</th>\n",
       "    </tr>\n",
       "    <tr>\n",
       "      <th>time</th>\n",
       "      <th></th>\n",
       "      <th></th>\n",
       "      <th></th>\n",
       "      <th></th>\n",
       "    </tr>\n",
       "  </thead>\n",
       "  <tbody>\n",
       "    <tr>\n",
       "      <th>1990-01-01</th>\n",
       "      <td>115718.458333</td>\n",
       "      <td>137915.676248</td>\n",
       "      <td>7.368391e+15</td>\n",
       "      <td>4.486027e+21</td>\n",
       "    </tr>\n",
       "    <tr>\n",
       "      <th>1991-01-01</th>\n",
       "      <td>119679.062500</td>\n",
       "      <td>140880.685229</td>\n",
       "      <td>7.767312e+15</td>\n",
       "      <td>4.821507e+21</td>\n",
       "    </tr>\n",
       "    <tr>\n",
       "      <th>1992-01-01</th>\n",
       "      <td>126366.125000</td>\n",
       "      <td>145895.348801</td>\n",
       "      <td>8.299588e+15</td>\n",
       "      <td>5.218952e+21</td>\n",
       "    </tr>\n",
       "    <tr>\n",
       "      <th>1993-01-01</th>\n",
       "      <td>132548.416667</td>\n",
       "      <td>150855.785722</td>\n",
       "      <td>8.916297e+15</td>\n",
       "      <td>5.697706e+21</td>\n",
       "    </tr>\n",
       "    <tr>\n",
       "      <th>1994-01-01</th>\n",
       "      <td>141774.791667</td>\n",
       "      <td>158224.022172</td>\n",
       "      <td>9.970297e+15</td>\n",
       "      <td>6.605433e+21</td>\n",
       "    </tr>\n",
       "    <tr>\n",
       "      <th>1995-01-01</th>\n",
       "      <td>149772.229167</td>\n",
       "      <td>167066.739843</td>\n",
       "      <td>1.179059e+16</td>\n",
       "      <td>8.274260e+21</td>\n",
       "    </tr>\n",
       "    <tr>\n",
       "      <th>1996-01-01</th>\n",
       "      <td>159110.000000</td>\n",
       "      <td>177321.601007</td>\n",
       "      <td>1.406762e+16</td>\n",
       "      <td>1.041445e+22</td>\n",
       "    </tr>\n",
       "    <tr>\n",
       "      <th>1997-01-01</th>\n",
       "      <td>170168.437500</td>\n",
       "      <td>190903.030136</td>\n",
       "      <td>1.765655e+16</td>\n",
       "      <td>1.406166e+22</td>\n",
       "    </tr>\n",
       "    <tr>\n",
       "      <th>1997-01-01</th>\n",
       "      <td>175580.458333</td>\n",
       "      <td>199557.890606</td>\n",
       "      <td>2.024532e+16</td>\n",
       "      <td>1.685056e+22</td>\n",
       "    </tr>\n",
       "    <tr>\n",
       "      <th>1998-01-01</th>\n",
       "      <td>185604.520833</td>\n",
       "      <td>211201.956507</td>\n",
       "      <td>2.413544e+16</td>\n",
       "      <td>2.146415e+22</td>\n",
       "    </tr>\n",
       "    <tr>\n",
       "      <th>1999-01-01</th>\n",
       "      <td>197381.500000</td>\n",
       "      <td>226652.099433</td>\n",
       "      <td>3.053756e+16</td>\n",
       "      <td>2.964493e+22</td>\n",
       "    </tr>\n",
       "    <tr>\n",
       "      <th>2000-01-01</th>\n",
       "      <td>210237.916667</td>\n",
       "      <td>244638.797371</td>\n",
       "      <td>3.959305e+16</td>\n",
       "      <td>4.225197e+22</td>\n",
       "    </tr>\n",
       "    <tr>\n",
       "      <th>2001-01-01</th>\n",
       "      <td>217072.395833</td>\n",
       "      <td>251057.215463</td>\n",
       "      <td>4.160156e+16</td>\n",
       "      <td>4.436921e+22</td>\n",
       "    </tr>\n",
       "    <tr>\n",
       "      <th>2002-01-01</th>\n",
       "      <td>224300.687500</td>\n",
       "      <td>259070.007962</td>\n",
       "      <td>4.611338e+16</td>\n",
       "      <td>5.135990e+22</td>\n",
       "    </tr>\n",
       "    <tr>\n",
       "      <th>2003-01-01</th>\n",
       "      <td>235128.229167</td>\n",
       "      <td>272173.512036</td>\n",
       "      <td>5.479377e+16</td>\n",
       "      <td>6.538294e+22</td>\n",
       "    </tr>\n",
       "    <tr>\n",
       "      <th>2004-01-01</th>\n",
       "      <td>250670.187500</td>\n",
       "      <td>292126.760068</td>\n",
       "      <td>6.917635e+16</td>\n",
       "      <td>8.932786e+22</td>\n",
       "    </tr>\n",
       "    <tr>\n",
       "      <th>2005-01-01</th>\n",
       "      <td>267352.916667</td>\n",
       "      <td>313530.807303</td>\n",
       "      <td>8.632929e+16</td>\n",
       "      <td>1.196618e+23</td>\n",
       "    </tr>\n",
       "    <tr>\n",
       "      <th>2006-01-01</th>\n",
       "      <td>282895.791667</td>\n",
       "      <td>333947.171252</td>\n",
       "      <td>1.052450e+17</td>\n",
       "      <td>1.548449e+23</td>\n",
       "    </tr>\n",
       "    <tr>\n",
       "      <th>2007-01-01</th>\n",
       "      <td>295497.812500</td>\n",
       "      <td>349259.268199</td>\n",
       "      <td>1.201405e+17</td>\n",
       "      <td>1.833989e+23</td>\n",
       "    </tr>\n",
       "    <tr>\n",
       "      <th>2008-01-01</th>\n",
       "      <td>300147.312500</td>\n",
       "      <td>354370.405675</td>\n",
       "      <td>1.264669e+17</td>\n",
       "      <td>1.956179e+23</td>\n",
       "    </tr>\n",
       "    <tr>\n",
       "      <th>2009-01-01</th>\n",
       "      <td>293871.979167</td>\n",
       "      <td>344223.676333</td>\n",
       "      <td>1.135380e+17</td>\n",
       "      <td>1.683709e+23</td>\n",
       "    </tr>\n",
       "    <tr>\n",
       "      <th>2010-01-01</th>\n",
       "      <td>304866.250000</td>\n",
       "      <td>357126.895695</td>\n",
       "      <td>1.258590e+17</td>\n",
       "      <td>1.909502e+23</td>\n",
       "    </tr>\n",
       "    <tr>\n",
       "      <th>2011-01-01</th>\n",
       "      <td>316031.020833</td>\n",
       "      <td>371393.215201</td>\n",
       "      <td>1.421892e+17</td>\n",
       "      <td>2.230796e+23</td>\n",
       "    </tr>\n",
       "    <tr>\n",
       "      <th>2012-01-01</th>\n",
       "      <td>329127.791667</td>\n",
       "      <td>391129.341065</td>\n",
       "      <td>1.665167e+17</td>\n",
       "      <td>2.730245e+23</td>\n",
       "    </tr>\n",
       "    <tr>\n",
       "      <th>2013-01-01</th>\n",
       "      <td>340216.854167</td>\n",
       "      <td>408554.873212</td>\n",
       "      <td>1.917495e+17</td>\n",
       "      <td>3.286498e+23</td>\n",
       "    </tr>\n",
       "    <tr>\n",
       "      <th>2014-01-01</th>\n",
       "      <td>355430.750000</td>\n",
       "      <td>430817.619731</td>\n",
       "      <td>2.281635e+17</td>\n",
       "      <td>4.160246e+23</td>\n",
       "    </tr>\n",
       "    <tr>\n",
       "      <th>2015-01-01</th>\n",
       "      <td>369802.062500</td>\n",
       "      <td>450709.714062</td>\n",
       "      <td>2.652948e+17</td>\n",
       "      <td>5.175183e+23</td>\n",
       "    </tr>\n",
       "    <tr>\n",
       "      <th>2016-01-01</th>\n",
       "      <td>380207.250000</td>\n",
       "      <td>465534.206839</td>\n",
       "      <td>2.973030e+17</td>\n",
       "      <td>6.118463e+23</td>\n",
       "    </tr>\n",
       "  </tbody>\n",
       "</table>\n",
       "</div>"
      ],
      "text/plain": [
       "                     mom1           mom2          mom3          mom4\n",
       "time                                                                \n",
       "1990-01-01  115718.458333  137915.676248  7.368391e+15  4.486027e+21\n",
       "1991-01-01  119679.062500  140880.685229  7.767312e+15  4.821507e+21\n",
       "1992-01-01  126366.125000  145895.348801  8.299588e+15  5.218952e+21\n",
       "1993-01-01  132548.416667  150855.785722  8.916297e+15  5.697706e+21\n",
       "1994-01-01  141774.791667  158224.022172  9.970297e+15  6.605433e+21\n",
       "1995-01-01  149772.229167  167066.739843  1.179059e+16  8.274260e+21\n",
       "1996-01-01  159110.000000  177321.601007  1.406762e+16  1.041445e+22\n",
       "1997-01-01  170168.437500  190903.030136  1.765655e+16  1.406166e+22\n",
       "1997-01-01  175580.458333  199557.890606  2.024532e+16  1.685056e+22\n",
       "1998-01-01  185604.520833  211201.956507  2.413544e+16  2.146415e+22\n",
       "1999-01-01  197381.500000  226652.099433  3.053756e+16  2.964493e+22\n",
       "2000-01-01  210237.916667  244638.797371  3.959305e+16  4.225197e+22\n",
       "2001-01-01  217072.395833  251057.215463  4.160156e+16  4.436921e+22\n",
       "2002-01-01  224300.687500  259070.007962  4.611338e+16  5.135990e+22\n",
       "2003-01-01  235128.229167  272173.512036  5.479377e+16  6.538294e+22\n",
       "2004-01-01  250670.187500  292126.760068  6.917635e+16  8.932786e+22\n",
       "2005-01-01  267352.916667  313530.807303  8.632929e+16  1.196618e+23\n",
       "2006-01-01  282895.791667  333947.171252  1.052450e+17  1.548449e+23\n",
       "2007-01-01  295497.812500  349259.268199  1.201405e+17  1.833989e+23\n",
       "2008-01-01  300147.312500  354370.405675  1.264669e+17  1.956179e+23\n",
       "2009-01-01  293871.979167  344223.676333  1.135380e+17  1.683709e+23\n",
       "2010-01-01  304866.250000  357126.895695  1.258590e+17  1.909502e+23\n",
       "2011-01-01  316031.020833  371393.215201  1.421892e+17  2.230796e+23\n",
       "2012-01-01  329127.791667  391129.341065  1.665167e+17  2.730245e+23\n",
       "2013-01-01  340216.854167  408554.873212  1.917495e+17  3.286498e+23\n",
       "2014-01-01  355430.750000  430817.619731  2.281635e+17  4.160246e+23\n",
       "2015-01-01  369802.062500  450709.714062  2.652948e+17  5.175183e+23\n",
       "2016-01-01  380207.250000  465534.206839  2.973030e+17  6.118463e+23"
      ]
     },
     "execution_count": 11,
     "metadata": {},
     "output_type": "execute_result"
    }
   ],
   "source": [
    "Moments.moments(df_gdp)"
   ]
  },
  {
   "cell_type": "code",
   "execution_count": 12,
   "metadata": {
    "collapsed": true
   },
   "outputs": [],
   "source": [
    "from datetime import datetime"
   ]
  },
  {
   "cell_type": "code",
   "execution_count": 13,
   "metadata": {},
   "outputs": [
    {
     "data": {
      "text/plain": [
       "datetime.datetime(1990, 1, 1, 0, 0)"
      ]
     },
     "execution_count": 13,
     "metadata": {},
     "output_type": "execute_result"
    }
   ],
   "source": [
    "datetime(1990, 1, 1)"
   ]
  },
  {
   "cell_type": "code",
   "execution_count": null,
   "metadata": {
    "collapsed": true
   },
   "outputs": [],
   "source": []
  }
 ],
 "metadata": {
  "kernelspec": {
   "display_name": "Python 3",
   "language": "python",
   "name": "python3"
  },
  "language_info": {
   "codemirror_mode": {
    "name": "ipython",
    "version": 3
   },
   "file_extension": ".py",
   "mimetype": "text/x-python",
   "name": "python",
   "nbconvert_exporter": "python",
   "pygments_lexer": "ipython3",
   "version": "3.6.3"
  }
 },
 "nbformat": 4,
 "nbformat_minor": 2
}
